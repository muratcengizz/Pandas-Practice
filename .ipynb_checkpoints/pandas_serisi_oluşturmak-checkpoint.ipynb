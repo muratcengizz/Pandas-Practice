{
 "cells": [
  {
   "cell_type": "markdown",
   "id": "e362a3d7-8e4b-4f88-a62a-e09a80987afd",
   "metadata": {},
   "source": [
    "# Pandas Serisi Oluşturmak"
   ]
  },
  {
   "cell_type": "code",
   "execution_count": 1,
   "id": "e740c313-ad21-47b4-84f4-3d2583201328",
   "metadata": {},
   "outputs": [],
   "source": [
    "import pandas as pd"
   ]
  },
  {
   "cell_type": "code",
   "execution_count": 2,
   "id": "586998e2-beae-413a-a03f-19f3cb4dde48",
   "metadata": {},
   "outputs": [
    {
     "data": {
      "text/plain": [
       "0    1\n",
       "1    2\n",
       "2    3\n",
       "3    4\n",
       "4    5\n",
       "dtype: int64"
      ]
     },
     "execution_count": 2,
     "metadata": {},
     "output_type": "execute_result"
    }
   ],
   "source": [
    "pd.Series([1, 2, 3, 4, 5])"
   ]
  },
  {
   "cell_type": "code",
   "execution_count": 3,
   "id": "b0affffc-f70e-4b2a-af09-e341d80a05c6",
   "metadata": {},
   "outputs": [
    {
     "data": {
      "text/plain": [
       "0    88\n",
       "1    10\n",
       "2    15\n",
       "3    25\n",
       "dtype: int64"
      ]
     },
     "execution_count": 3,
     "metadata": {},
     "output_type": "execute_result"
    }
   ],
   "source": [
    "pd.Series([88, 10, 15, 25])"
   ]
  },
  {
   "cell_type": "code",
   "execution_count": 4,
   "id": "a1259a81-bdcc-4e29-8fbd-8709bce48185",
   "metadata": {},
   "outputs": [],
   "source": [
    "seri = pd.Series([11, 22, 33, 44, 55, 66])"
   ]
  },
  {
   "cell_type": "code",
   "execution_count": 5,
   "id": "4d46de09-69d3-4714-a31c-2ad7984be9e6",
   "metadata": {},
   "outputs": [
    {
     "data": {
      "text/plain": [
       "pandas.core.series.Series"
      ]
     },
     "execution_count": 5,
     "metadata": {},
     "output_type": "execute_result"
    }
   ],
   "source": [
    "type(seri)"
   ]
  },
  {
   "cell_type": "code",
   "execution_count": 6,
   "id": "df74d1b6-a85e-4ca7-8d3a-df2fa53ac2a5",
   "metadata": {},
   "outputs": [
    {
     "data": {
      "text/plain": [
       "[RangeIndex(start=0, stop=6, step=1)]"
      ]
     },
     "execution_count": 6,
     "metadata": {},
     "output_type": "execute_result"
    }
   ],
   "source": [
    "seri.axes # serinin index bilgilerine axes methodu ile ulaşabiliriz."
   ]
  },
  {
   "cell_type": "code",
   "execution_count": 7,
   "id": "d6cd6796-5fbd-4649-a4b4-c8890bfc4d5e",
   "metadata": {},
   "outputs": [
    {
     "data": {
      "text/plain": [
       "dtype('int64')"
      ]
     },
     "execution_count": 7,
     "metadata": {},
     "output_type": "execute_result"
    }
   ],
   "source": [
    "seri.dtype"
   ]
  },
  {
   "cell_type": "code",
   "execution_count": 8,
   "id": "9684f588-6a5c-44f2-8eb3-396b76a0d291",
   "metadata": {},
   "outputs": [
    {
     "data": {
      "text/plain": [
       "6"
      ]
     },
     "execution_count": 8,
     "metadata": {},
     "output_type": "execute_result"
    }
   ],
   "source": [
    "seri.size"
   ]
  },
  {
   "cell_type": "code",
   "execution_count": 9,
   "id": "a0e9a486-f08d-4218-a849-fca7ef70db7b",
   "metadata": {},
   "outputs": [
    {
     "data": {
      "text/plain": [
       "1"
      ]
     },
     "execution_count": 9,
     "metadata": {},
     "output_type": "execute_result"
    }
   ],
   "source": [
    "seri.ndim"
   ]
  },
  {
   "cell_type": "code",
   "execution_count": 10,
   "id": "bed84afa-f008-4867-a1e3-ff2b910518e9",
   "metadata": {},
   "outputs": [
    {
     "data": {
      "text/plain": [
       "array([11, 22, 33, 44, 55, 66], dtype=int64)"
      ]
     },
     "execution_count": 10,
     "metadata": {},
     "output_type": "execute_result"
    }
   ],
   "source": [
    "seri.values # serinin sadece değer bölümüne vektör halinde erişebilmek için values methodunu kullanıyoruz."
   ]
  },
  {
   "cell_type": "code",
   "execution_count": 11,
   "id": "728962ce-c6aa-43a6-931e-a2cacb9c1eaa",
   "metadata": {},
   "outputs": [
    {
     "data": {
      "text/plain": [
       "0    11\n",
       "1    22\n",
       "2    33\n",
       "3    44\n",
       "4    55\n",
       "dtype: int64"
      ]
     },
     "execution_count": 11,
     "metadata": {},
     "output_type": "execute_result"
    }
   ],
   "source": [
    "seri.head()"
   ]
  },
  {
   "cell_type": "code",
   "execution_count": 12,
   "id": "e596df5f-0ec6-42ff-a99b-185b50e1b876",
   "metadata": {},
   "outputs": [
    {
     "data": {
      "text/plain": [
       "0    11\n",
       "1    22\n",
       "dtype: int64"
      ]
     },
     "execution_count": 12,
     "metadata": {},
     "output_type": "execute_result"
    }
   ],
   "source": [
    "seri.head(2) # Serinin başından belirli miktarda veriyi görüntülemek için head methodunu kullanabiliriz. head methoduna verdiğimiz parametre kaç tane değeri listelemek istediğimizi temsil eder."
   ]
  },
  {
   "cell_type": "code",
   "execution_count": 13,
   "id": "5928baab-4a2d-4faf-8d6c-69f26cae9fb2",
   "metadata": {},
   "outputs": [
    {
     "data": {
      "text/plain": [
       "4    55\n",
       "5    66\n",
       "dtype: int64"
      ]
     },
     "execution_count": 13,
     "metadata": {},
     "output_type": "execute_result"
    }
   ],
   "source": [
    "seri.tail(2) # Serinin sonundan belirli miktarda veriyi görüntülemek için tail methodunu kullanıyoruz. Tail methoduna verdiğimiz parametre, kaç tane eleman görüntülemek istediğimizi temsil ediyori."
   ]
  },
  {
   "cell_type": "code",
   "execution_count": 14,
   "id": "59cd5281-f845-48ef-a4bb-7b171e66b40f",
   "metadata": {},
   "outputs": [],
   "source": [
    "# Seri index belirleme"
   ]
  },
  {
   "cell_type": "code",
   "execution_count": 15,
   "id": "8e714e11-10c5-4c3f-b55a-a9f970fb9496",
   "metadata": {},
   "outputs": [
    {
     "data": {
      "text/plain": [
       "1     99\n",
       "3     88\n",
       "5     33\n",
       "7     22\n",
       "9     11\n",
       "11    44\n",
       "dtype: int64"
      ]
     },
     "execution_count": 15,
     "metadata": {},
     "output_type": "execute_result"
    }
   ],
   "source": [
    "pd.Series([99, 88, 33, 22, 11, 44], index=[1, 3, 5, 7, 9, 11])"
   ]
  },
  {
   "cell_type": "code",
   "execution_count": 16,
   "id": "38e7c4c2-1378-47fa-a7a2-fbe07f39bb0e",
   "metadata": {},
   "outputs": [
    {
     "data": {
      "text/plain": [
       "a    99\n",
       "b    88\n",
       "c    33\n",
       "d    22\n",
       "e    11\n",
       "f    44\n",
       "dtype: int64"
      ]
     },
     "execution_count": 16,
     "metadata": {},
     "output_type": "execute_result"
    }
   ],
   "source": [
    "pd.Series([99, 88, 33, 22, 11, 44], index=[\"a\", \"b\", \"c\", \"d\", \"e\", \"f\"])"
   ]
  },
  {
   "cell_type": "code",
   "execution_count": 17,
   "id": "9c60da58-0a62-46ae-bc24-980dabb11bd2",
   "metadata": {},
   "outputs": [
    {
     "data": {
      "text/plain": [
       "a    99\n",
       "b    88\n",
       "c    33\n",
       "d    22\n",
       "e    11\n",
       "f    44\n",
       "dtype: int64"
      ]
     },
     "execution_count": 17,
     "metadata": {},
     "output_type": "execute_result"
    }
   ],
   "source": [
    "seri = pd.Series([99, 88, 33, 22, 11, 44], index=[\"a\", \"b\", \"c\", \"d\", \"e\", \"f\"])\n",
    "seri"
   ]
  },
  {
   "cell_type": "code",
   "execution_count": 18,
   "id": "0ba9b26a-6149-40b0-b33d-ae82bb1b0e75",
   "metadata": {},
   "outputs": [
    {
     "data": {
      "text/plain": [
       "99"
      ]
     },
     "execution_count": 18,
     "metadata": {},
     "output_type": "execute_result"
    }
   ],
   "source": [
    "seri[\"a\"]"
   ]
  },
  {
   "cell_type": "code",
   "execution_count": 19,
   "id": "37f3cc2a-11be-4672-8c9d-10046ea68c86",
   "metadata": {},
   "outputs": [
    {
     "data": {
      "text/plain": [
       "88"
      ]
     },
     "execution_count": 19,
     "metadata": {},
     "output_type": "execute_result"
    }
   ],
   "source": [
    "seri[\"b\"]"
   ]
  },
  {
   "cell_type": "code",
   "execution_count": 20,
   "id": "388b4bb0-fb6e-4265-9c98-4b1eac2a7fc3",
   "metadata": {},
   "outputs": [
    {
     "data": {
      "text/plain": [
       "33"
      ]
     },
     "execution_count": 20,
     "metadata": {},
     "output_type": "execute_result"
    }
   ],
   "source": [
    "seri[\"c\"]"
   ]
  },
  {
   "cell_type": "code",
   "execution_count": 21,
   "id": "323d139b-0eb0-43a6-b76a-cfe550c29344",
   "metadata": {},
   "outputs": [
    {
     "data": {
      "text/plain": [
       "a    99\n",
       "b    88\n",
       "c    33\n",
       "d    22\n",
       "dtype: int64"
      ]
     },
     "execution_count": 21,
     "metadata": {},
     "output_type": "execute_result"
    }
   ],
   "source": [
    "seri[\"a\":\"d\"]"
   ]
  },
  {
   "cell_type": "code",
   "execution_count": 22,
   "id": "92a06f5f-fe75-43ec-9a84-f1e30120f0b6",
   "metadata": {},
   "outputs": [
    {
     "data": {
      "text/plain": [
       "a    99\n",
       "b    88\n",
       "c    33\n",
       "dtype: int64"
      ]
     },
     "execution_count": 22,
     "metadata": {},
     "output_type": "execute_result"
    }
   ],
   "source": [
    "seri[\"a\":\"c\"]"
   ]
  },
  {
   "cell_type": "code",
   "execution_count": 23,
   "id": "b99092d5-6243-4440-b404-378b0129b83b",
   "metadata": {},
   "outputs": [
    {
     "data": {
      "text/plain": [
       "b    88\n",
       "c    33\n",
       "d    22\n",
       "e    11\n",
       "dtype: int64"
      ]
     },
     "execution_count": 23,
     "metadata": {},
     "output_type": "execute_result"
    }
   ],
   "source": [
    "seri[\"b\":\"e\"]"
   ]
  },
  {
   "cell_type": "code",
   "execution_count": 24,
   "id": "65c88d95-b327-41f1-ab7b-dd0d41ca4490",
   "metadata": {},
   "outputs": [],
   "source": [
    "# Dictionary üzerinden liste oluşturmak"
   ]
  },
  {
   "cell_type": "code",
   "execution_count": 25,
   "id": "c45d81a1-50cc-4904-a779-76da12eca5f9",
   "metadata": {},
   "outputs": [
    {
     "data": {
      "text/plain": [
       "reg      1\n",
       "log     10\n",
       "cart    12\n",
       "dtype: int64"
      ]
     },
     "execution_count": 25,
     "metadata": {},
     "output_type": "execute_result"
    }
   ],
   "source": [
    "pd.Series({\"reg\":1, \"log\":10, \"cart\":12})"
   ]
  },
  {
   "cell_type": "code",
   "execution_count": 26,
   "id": "6c0928ac-fe8a-4960-8e2e-3f38f8043e18",
   "metadata": {},
   "outputs": [],
   "source": [
    "sozluk = {\"reg\":1, \"log\":10, \"cart\":12}"
   ]
  },
  {
   "cell_type": "code",
   "execution_count": 27,
   "id": "414d6449-ea38-4380-98c9-0fdb401b5d40",
   "metadata": {},
   "outputs": [
    {
     "data": {
      "text/plain": [
       "reg      1\n",
       "log     10\n",
       "cart    12\n",
       "dtype: int64"
      ]
     },
     "execution_count": 27,
     "metadata": {},
     "output_type": "execute_result"
    }
   ],
   "source": [
    "seri = pd.Series(sozluk)\n",
    "seri"
   ]
  },
  {
   "cell_type": "code",
   "execution_count": 28,
   "id": "95ae931f-fbbe-485a-a8df-ac07a26c4b41",
   "metadata": {},
   "outputs": [
    {
     "data": {
      "text/plain": [
       "1"
      ]
     },
     "execution_count": 28,
     "metadata": {},
     "output_type": "execute_result"
    }
   ],
   "source": [
    "seri[\"reg\"]"
   ]
  },
  {
   "cell_type": "code",
   "execution_count": 29,
   "id": "55bc1217-5fa3-45ab-86aa-8493257cb54e",
   "metadata": {},
   "outputs": [
    {
     "data": {
      "text/plain": [
       "10"
      ]
     },
     "execution_count": 29,
     "metadata": {},
     "output_type": "execute_result"
    }
   ],
   "source": [
    "seri[\"log\"]"
   ]
  },
  {
   "cell_type": "code",
   "execution_count": 30,
   "id": "c6ab0212-f6f1-4e84-b8e7-b31440d99fb3",
   "metadata": {},
   "outputs": [
    {
     "data": {
      "text/plain": [
       "12"
      ]
     },
     "execution_count": 30,
     "metadata": {},
     "output_type": "execute_result"
    }
   ],
   "source": [
    "seri[\"cart\"]"
   ]
  },
  {
   "cell_type": "code",
   "execution_count": 31,
   "id": "1b1a5cbf-c307-4e0e-9540-176cb4fc5700",
   "metadata": {},
   "outputs": [
    {
     "data": {
      "text/plain": [
       "reg      1\n",
       "log     10\n",
       "cart    12\n",
       "reg      1\n",
       "log     10\n",
       "cart    12\n",
       "dtype: int64"
      ]
     },
     "execution_count": 31,
     "metadata": {},
     "output_type": "execute_result"
    }
   ],
   "source": [
    "pd.concat([seri, seri]) # numpy 'da ki concatenate fonksiyonu gibi. 2 seriyi birleştirerek bir seri oluşturduk."
   ]
  },
  {
   "cell_type": "code",
   "execution_count": 32,
   "id": "1ffa1989-12ac-4a71-9214-04ab64bb2de3",
   "metadata": {},
   "outputs": [
    {
     "data": {
      "text/plain": [
       "0    1\n",
       "1    2\n",
       "2    3\n",
       "3    4\n",
       "4    5\n",
       "dtype: int64"
      ]
     },
     "execution_count": 32,
     "metadata": {},
     "output_type": "execute_result"
    }
   ],
   "source": [
    "my_series = pd.Series([1,2,3,4,5])\n",
    "my_series"
   ]
  },
  {
   "cell_type": "code",
   "execution_count": 34,
   "id": "00e0da5f-410b-4581-a5a9-5306fc72cb8e",
   "metadata": {},
   "outputs": [
    {
     "data": {
      "text/plain": [
       "pandas.core.series.Series"
      ]
     },
     "execution_count": 34,
     "metadata": {},
     "output_type": "execute_result"
    }
   ],
   "source": [
    "type(my_series)"
   ]
  },
  {
   "cell_type": "code",
   "execution_count": 35,
   "id": "78a24634-8d41-43b5-bea2-330c8d6b5028",
   "metadata": {},
   "outputs": [
    {
     "data": {
      "text/plain": [
       "dtype('int64')"
      ]
     },
     "execution_count": 35,
     "metadata": {},
     "output_type": "execute_result"
    }
   ],
   "source": [
    "my_series.dtype"
   ]
  },
  {
   "cell_type": "code",
   "execution_count": 36,
   "id": "f009a318-44e6-4378-a3ef-825d520e6df9",
   "metadata": {},
   "outputs": [],
   "source": [
    "example = pd.Series([\"num1\", \"num2\", \"num3\", 4, 5, 6])"
   ]
  },
  {
   "cell_type": "code",
   "execution_count": 37,
   "id": "d1e081a8-6c69-49d2-9ad2-f591baa5b9ab",
   "metadata": {},
   "outputs": [
    {
     "data": {
      "text/plain": [
       "0    num1\n",
       "1    num2\n",
       "2    num3\n",
       "3       4\n",
       "4       5\n",
       "5       6\n",
       "dtype: object"
      ]
     },
     "execution_count": 37,
     "metadata": {},
     "output_type": "execute_result"
    }
   ],
   "source": [
    "example"
   ]
  },
  {
   "cell_type": "code",
   "execution_count": 38,
   "id": "b7f2c9fb-5b3c-48f7-bf1b-c4b219d275b6",
   "metadata": {},
   "outputs": [
    {
     "data": {
      "text/plain": [
       "pandas.core.series.Series"
      ]
     },
     "execution_count": 38,
     "metadata": {},
     "output_type": "execute_result"
    }
   ],
   "source": [
    "type(example)"
   ]
  },
  {
   "cell_type": "code",
   "execution_count": 39,
   "id": "9a820983-c82d-4120-95f7-5ebf3e5475bd",
   "metadata": {},
   "outputs": [
    {
     "data": {
      "text/plain": [
       "dtype('O')"
      ]
     },
     "execution_count": 39,
     "metadata": {},
     "output_type": "execute_result"
    }
   ],
   "source": [
    "example.dtype"
   ]
  },
  {
   "cell_type": "code",
   "execution_count": 42,
   "id": "73a42691-cc7b-4fb6-a5f9-dedacfaee062",
   "metadata": {},
   "outputs": [
    {
     "data": {
      "text/plain": [
       "bir       murat\n",
       "iki       engin\n",
       "uc      ramazan\n",
       "dort      soner\n",
       "dtype: object"
      ]
     },
     "execution_count": 42,
     "metadata": {},
     "output_type": "execute_result"
    }
   ],
   "source": [
    "example2 = pd.Series([\"murat\", \"engin\", \"ramazan\", \"soner\"], \n",
    "                    index=[\"bir\", \"iki\", \"uc\", \"dort\"])\n",
    "example2"
   ]
  },
  {
   "cell_type": "code",
   "execution_count": 43,
   "id": "38b3bcc0-c373-4c2c-a907-cc05c3824b90",
   "metadata": {},
   "outputs": [
    {
     "data": {
      "text/plain": [
       "'murat'"
      ]
     },
     "execution_count": 43,
     "metadata": {},
     "output_type": "execute_result"
    }
   ],
   "source": [
    "example2[\"bir\"]"
   ]
  },
  {
   "cell_type": "code",
   "execution_count": 46,
   "id": "bc8266cc-edf2-49b9-ac1e-d1e820bafa62",
   "metadata": {},
   "outputs": [
    {
     "data": {
      "text/plain": [
       "'ramazan'"
      ]
     },
     "execution_count": 46,
     "metadata": {},
     "output_type": "execute_result"
    }
   ],
   "source": [
    "example2[\"uc\"]"
   ]
  },
  {
   "cell_type": "code",
   "execution_count": 47,
   "id": "b53ec1f6-70a1-48b1-8af3-088ae2e1cbd5",
   "metadata": {},
   "outputs": [
    {
     "data": {
      "text/plain": [
       "False"
      ]
     },
     "execution_count": 47,
     "metadata": {},
     "output_type": "execute_result"
    }
   ],
   "source": [
    "\"murat\" in example2"
   ]
  },
  {
   "cell_type": "code",
   "execution_count": 48,
   "id": "9b10b197-a7aa-467c-9d0b-5b74d0220144",
   "metadata": {},
   "outputs": [
    {
     "data": {
      "text/plain": [
       "True"
      ]
     },
     "execution_count": 48,
     "metadata": {},
     "output_type": "execute_result"
    }
   ],
   "source": [
    "\"bir\" in example2"
   ]
  },
  {
   "cell_type": "code",
   "execution_count": 49,
   "id": "8d3689dd-5455-4429-be51-03eb7e62079a",
   "metadata": {},
   "outputs": [
    {
     "data": {
      "text/plain": [
       "True"
      ]
     },
     "execution_count": 49,
     "metadata": {},
     "output_type": "execute_result"
    }
   ],
   "source": [
    "\"iki\" in example2"
   ]
  },
  {
   "cell_type": "code",
   "execution_count": 51,
   "id": "a338bc0f-712c-4b7d-950e-a885f2e199e7",
   "metadata": {},
   "outputs": [
    {
     "data": {
      "text/plain": [
       "{'index1': 1, 'index2': 2, 'index3': 3}"
      ]
     },
     "execution_count": 51,
     "metadata": {},
     "output_type": "execute_result"
    }
   ],
   "source": [
    "my_dictionary = {\"index1\":1, \"index2\":2, \"index3\":3}\n",
    "\n",
    "my_dictionary"
   ]
  },
  {
   "cell_type": "code",
   "execution_count": 52,
   "id": "89dda508-6795-4a2b-9f11-83f9825d6cd3",
   "metadata": {},
   "outputs": [
    {
     "data": {
      "text/plain": [
       "index1    1\n",
       "index2    2\n",
       "index3    3\n",
       "dtype: int64"
      ]
     },
     "execution_count": 52,
     "metadata": {},
     "output_type": "execute_result"
    }
   ],
   "source": [
    "creation = pd.Series(my_dictionary)\n",
    "creation"
   ]
  },
  {
   "cell_type": "code",
   "execution_count": 53,
   "id": "f711fbf4-8b3a-4c66-a4e0-f6abe5a417a6",
   "metadata": {},
   "outputs": [
    {
     "data": {
      "text/plain": [
       "Index(['index1', 'index2', 'index3'], dtype='object')"
      ]
     },
     "execution_count": 53,
     "metadata": {},
     "output_type": "execute_result"
    }
   ],
   "source": [
    "creation.keys()"
   ]
  },
  {
   "cell_type": "code",
   "execution_count": 55,
   "id": "3da76f24-5434-43d8-a68c-1368cfcb91ad",
   "metadata": {},
   "outputs": [
    {
     "data": {
      "text/plain": [
       "array([1, 2, 3], dtype=int64)"
      ]
     },
     "execution_count": 55,
     "metadata": {},
     "output_type": "execute_result"
    }
   ],
   "source": [
    "creation.values"
   ]
  },
  {
   "cell_type": "code",
   "execution_count": 57,
   "id": "8642a9b4-1d23-41c5-b2ec-f8bfdb7d89f5",
   "metadata": {},
   "outputs": [
    {
     "data": {
      "text/plain": [
       "1"
      ]
     },
     "execution_count": 57,
     "metadata": {},
     "output_type": "execute_result"
    }
   ],
   "source": [
    "creation[\"index1\"]"
   ]
  },
  {
   "cell_type": "code",
   "execution_count": 58,
   "id": "13c624b2-cc06-4d78-8e8d-03827b811fa2",
   "metadata": {},
   "outputs": [
    {
     "data": {
      "text/plain": [
       "2"
      ]
     },
     "execution_count": 58,
     "metadata": {},
     "output_type": "execute_result"
    }
   ],
   "source": [
    "creation[\"index2\"]"
   ]
  },
  {
   "cell_type": "code",
   "execution_count": 59,
   "id": "0694db08-097a-4650-8230-e933ad505bc0",
   "metadata": {},
   "outputs": [
    {
     "data": {
      "text/plain": [
       "3"
      ]
     },
     "execution_count": 59,
     "metadata": {},
     "output_type": "execute_result"
    }
   ],
   "source": [
    "creation[\"index3\"]"
   ]
  },
  {
   "cell_type": "code",
   "execution_count": null,
   "id": "99571337-c353-4e77-9c8f-e1ba90812d4d",
   "metadata": {},
   "outputs": [],
   "source": []
  }
 ],
 "metadata": {
  "kernelspec": {
   "display_name": "Python 3 (ipykernel)",
   "language": "python",
   "name": "python3"
  },
  "language_info": {
   "codemirror_mode": {
    "name": "ipython",
    "version": 3
   },
   "file_extension": ".py",
   "mimetype": "text/x-python",
   "name": "python",
   "nbconvert_exporter": "python",
   "pygments_lexer": "ipython3",
   "version": "3.9.12"
  }
 },
 "nbformat": 4,
 "nbformat_minor": 5
}
