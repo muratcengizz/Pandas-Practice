{
 "cells": [
  {
   "cell_type": "markdown",
   "id": "05428136-ec2c-4f57-8078-78cdca6c200b",
   "metadata": {},
   "source": [
    "# Eleman İşlemleri"
   ]
  },
  {
   "cell_type": "code",
   "execution_count": 1,
   "id": "a7c938bc-ea17-4beb-9dbf-d6fb9c72e1b8",
   "metadata": {},
   "outputs": [],
   "source": [
    "import numpy as np\n",
    "import pandas as pd"
   ]
  },
  {
   "cell_type": "code",
   "execution_count": 2,
   "id": "6a547102-f999-4ec3-83d2-167a21c1a00a",
   "metadata": {},
   "outputs": [
    {
     "data": {
      "text/plain": [
       "array([1, 2, 3, 4, 5])"
      ]
     },
     "execution_count": 2,
     "metadata": {},
     "output_type": "execute_result"
    }
   ],
   "source": [
    "a = np.array([1,2,3,4,5])\n",
    "a"
   ]
  },
  {
   "cell_type": "code",
   "execution_count": 3,
   "id": "f0e75d33-5265-47f1-a309-e5d4021ca864",
   "metadata": {},
   "outputs": [
    {
     "data": {
      "text/plain": [
       "0    1\n",
       "1    2\n",
       "2    3\n",
       "3    4\n",
       "4    5\n",
       "dtype: int32"
      ]
     },
     "execution_count": 3,
     "metadata": {},
     "output_type": "execute_result"
    }
   ],
   "source": [
    "seri = pd.Series(a)\n",
    "seri"
   ]
  },
  {
   "cell_type": "code",
   "execution_count": 4,
   "id": "ff770509-502a-4e19-94a5-c168df17accc",
   "metadata": {},
   "outputs": [
    {
     "data": {
      "text/plain": [
       "1"
      ]
     },
     "execution_count": 4,
     "metadata": {},
     "output_type": "execute_result"
    }
   ],
   "source": [
    "seri[0]"
   ]
  },
  {
   "cell_type": "code",
   "execution_count": 5,
   "id": "3e351359-c00f-4bbe-a7ff-aa81e9d934f5",
   "metadata": {},
   "outputs": [
    {
     "data": {
      "text/plain": [
       "2"
      ]
     },
     "execution_count": 5,
     "metadata": {},
     "output_type": "execute_result"
    }
   ],
   "source": [
    "seri[1]"
   ]
  },
  {
   "cell_type": "code",
   "execution_count": 6,
   "id": "38414f2d-af9d-4e6e-863b-443560c94fe4",
   "metadata": {},
   "outputs": [
    {
     "data": {
      "text/plain": [
       "0    1\n",
       "1    2\n",
       "2    3\n",
       "dtype: int32"
      ]
     },
     "execution_count": 6,
     "metadata": {},
     "output_type": "execute_result"
    }
   ],
   "source": [
    "seri[0:3]"
   ]
  },
  {
   "cell_type": "code",
   "execution_count": 7,
   "id": "f875946f-d7c9-4136-b81b-f2476daf1f17",
   "metadata": {},
   "outputs": [],
   "source": [
    "seri = pd.Series([200, 300, 400, 500, 600],\n",
    "                 index=[\"reg\", \"loj\", \"rg0\", \"rm1\", \"mhj\"])"
   ]
  },
  {
   "cell_type": "code",
   "execution_count": 8,
   "id": "645d768b-c216-4152-b209-543ba6b79f4b",
   "metadata": {},
   "outputs": [
    {
     "data": {
      "text/plain": [
       "reg    200\n",
       "loj    300\n",
       "rg0    400\n",
       "rm1    500\n",
       "mhj    600\n",
       "dtype: int64"
      ]
     },
     "execution_count": 8,
     "metadata": {},
     "output_type": "execute_result"
    }
   ],
   "source": [
    "seri"
   ]
  },
  {
   "cell_type": "code",
   "execution_count": 9,
   "id": "9de2cae1-9126-4715-837c-dc98ee20f479",
   "metadata": {},
   "outputs": [
    {
     "data": {
      "text/plain": [
       "Index(['reg', 'loj', 'rg0', 'rm1', 'mhj'], dtype='object')"
      ]
     },
     "execution_count": 9,
     "metadata": {},
     "output_type": "execute_result"
    }
   ],
   "source": [
    "seri.index"
   ]
  },
  {
   "cell_type": "code",
   "execution_count": 10,
   "id": "b13d945e-836f-400a-bc0f-f333c0a2d759",
   "metadata": {},
   "outputs": [
    {
     "data": {
      "text/plain": [
       "<bound method Series.keys of reg    200\n",
       "loj    300\n",
       "rg0    400\n",
       "rm1    500\n",
       "mhj    600\n",
       "dtype: int64>"
      ]
     },
     "execution_count": 10,
     "metadata": {},
     "output_type": "execute_result"
    }
   ],
   "source": [
    "seri.keys"
   ]
  },
  {
   "cell_type": "code",
   "execution_count": 11,
   "id": "2917100a-ac29-4f2d-979f-77aff89fb702",
   "metadata": {},
   "outputs": [
    {
     "data": {
      "text/plain": [
       "array([200, 300, 400, 500, 600], dtype=int64)"
      ]
     },
     "execution_count": 11,
     "metadata": {},
     "output_type": "execute_result"
    }
   ],
   "source": [
    "seri.values"
   ]
  },
  {
   "cell_type": "code",
   "execution_count": 12,
   "id": "387abd66-5100-4d05-82c3-bf10e0923dbd",
   "metadata": {},
   "outputs": [
    {
     "data": {
      "text/plain": [
       "<bound method Series.items of reg    200\n",
       "loj    300\n",
       "rg0    400\n",
       "rm1    500\n",
       "mhj    600\n",
       "dtype: int64>"
      ]
     },
     "execution_count": 12,
     "metadata": {},
     "output_type": "execute_result"
    }
   ],
   "source": [
    "seri.items"
   ]
  },
  {
   "cell_type": "code",
   "execution_count": 13,
   "id": "1fa4d80f-7b76-4c36-9eed-7899c4c45f6d",
   "metadata": {},
   "outputs": [
    {
     "data": {
      "text/plain": [
       "[('reg', 200), ('loj', 300), ('rg0', 400), ('rm1', 500), ('mhj', 600)]"
      ]
     },
     "execution_count": 13,
     "metadata": {},
     "output_type": "execute_result"
    }
   ],
   "source": [
    "list(seri.items())"
   ]
  },
  {
   "cell_type": "markdown",
   "id": "0b043cca-b66e-47cf-927b-00fee6eef4d1",
   "metadata": {},
   "source": [
    "# Eleman Sorgulama"
   ]
  },
  {
   "cell_type": "code",
   "execution_count": 14,
   "id": "1ebf7d27-e925-473b-a1b2-8b1db0f774c0",
   "metadata": {},
   "outputs": [
    {
     "data": {
      "text/plain": [
       "True"
      ]
     },
     "execution_count": 14,
     "metadata": {},
     "output_type": "execute_result"
    }
   ],
   "source": [
    "\"reg\" in seri"
   ]
  },
  {
   "cell_type": "code",
   "execution_count": 15,
   "id": "86afce42-6d48-4235-be3f-b505b1e988d1",
   "metadata": {},
   "outputs": [
    {
     "data": {
      "text/plain": [
       "False"
      ]
     },
     "execution_count": 15,
     "metadata": {},
     "output_type": "execute_result"
    }
   ],
   "source": [
    "\"murat\" in seri"
   ]
  },
  {
   "cell_type": "code",
   "execution_count": 16,
   "id": "cfabe84d-6e2f-45dd-b732-9fe59a6f7bfb",
   "metadata": {},
   "outputs": [
    {
     "data": {
      "text/plain": [
       "True"
      ]
     },
     "execution_count": 16,
     "metadata": {},
     "output_type": "execute_result"
    }
   ],
   "source": [
    "\"murat\" not in seri"
   ]
  },
  {
   "cell_type": "code",
   "execution_count": 17,
   "id": "ed0f993c-77b0-40b7-828e-8bcfd81a7cfd",
   "metadata": {},
   "outputs": [
    {
     "data": {
      "text/plain": [
       "False"
      ]
     },
     "execution_count": 17,
     "metadata": {},
     "output_type": "execute_result"
    }
   ],
   "source": [
    "\"a\" in seri"
   ]
  },
  {
   "cell_type": "markdown",
   "id": "cd3b30c3-3795-4db5-92b2-a047082cd6f5",
   "metadata": {},
   "source": [
    "# Fancy İle Çoklu Sorgulama"
   ]
  },
  {
   "cell_type": "code",
   "execution_count": 18,
   "id": "0798a4dc-981b-4b6a-a0e6-267d5e39029a",
   "metadata": {},
   "outputs": [
    {
     "data": {
      "text/plain": [
       "reg    200\n",
       "loj    300\n",
       "dtype: int64"
      ]
     },
     "execution_count": 18,
     "metadata": {},
     "output_type": "execute_result"
    }
   ],
   "source": [
    "seri[[\"reg\", \"loj\"]]"
   ]
  },
  {
   "cell_type": "code",
   "execution_count": 19,
   "id": "3ca7de2e-f4de-4798-a61d-7a7109877e3c",
   "metadata": {},
   "outputs": [
    {
     "data": {
      "text/plain": [
       "200"
      ]
     },
     "execution_count": 19,
     "metadata": {},
     "output_type": "execute_result"
    }
   ],
   "source": [
    "seri[\"reg\"]"
   ]
  },
  {
   "cell_type": "code",
   "execution_count": 20,
   "id": "fdafc297-c385-4b9f-8f93-3275f3df01e3",
   "metadata": {},
   "outputs": [
    {
     "data": {
      "text/plain": [
       "reg    200\n",
       "dtype: int64"
      ]
     },
     "execution_count": 20,
     "metadata": {},
     "output_type": "execute_result"
    }
   ],
   "source": [
    "seri[[\"reg\"]]"
   ]
  },
  {
   "cell_type": "code",
   "execution_count": 21,
   "id": "de7ff70c-176e-41b7-a450-fd55d98544fb",
   "metadata": {},
   "outputs": [
    {
     "data": {
      "text/plain": [
       "['reg', 'loj']"
      ]
     },
     "execution_count": 21,
     "metadata": {},
     "output_type": "execute_result"
    }
   ],
   "source": [
    "index_listesi = [\"reg\", \"loj\"]\n",
    "index_listesi"
   ]
  },
  {
   "cell_type": "code",
   "execution_count": 22,
   "id": "6a0d1586-3249-49a1-b87c-8f7353f89804",
   "metadata": {},
   "outputs": [
    {
     "data": {
      "text/plain": [
       "reg    200\n",
       "loj    300\n",
       "dtype: int64"
      ]
     },
     "execution_count": 22,
     "metadata": {},
     "output_type": "execute_result"
    }
   ],
   "source": [
    "seri[index_listesi]"
   ]
  },
  {
   "cell_type": "markdown",
   "id": "37123686-b094-409f-8e08-649db7c01af7",
   "metadata": {},
   "source": [
    "# Seri Üzerinde Değişiklik Yapma"
   ]
  },
  {
   "cell_type": "code",
   "execution_count": 23,
   "id": "7a4dac65-c44c-4e48-9f96-461e58670849",
   "metadata": {},
   "outputs": [
    {
     "data": {
      "text/plain": [
       "200"
      ]
     },
     "execution_count": 23,
     "metadata": {},
     "output_type": "execute_result"
    }
   ],
   "source": [
    "seri[\"reg\"]"
   ]
  },
  {
   "cell_type": "code",
   "execution_count": 24,
   "id": "e1bffaa1-143d-4fab-b68a-903e4766474c",
   "metadata": {},
   "outputs": [],
   "source": [
    "seri[\"reg\"] = 301"
   ]
  },
  {
   "cell_type": "code",
   "execution_count": 25,
   "id": "cfe86414-f535-4c11-aed1-b0796a49db87",
   "metadata": {},
   "outputs": [
    {
     "data": {
      "text/plain": [
       "301"
      ]
     },
     "execution_count": 25,
     "metadata": {},
     "output_type": "execute_result"
    }
   ],
   "source": [
    "seri[\"reg\"]"
   ]
  },
  {
   "cell_type": "code",
   "execution_count": 26,
   "id": "a3a53de7-df78-48bc-b781-d252d831a2b8",
   "metadata": {},
   "outputs": [
    {
     "data": {
      "text/plain": [
       "reg    301\n",
       "loj    300\n",
       "dtype: int64"
      ]
     },
     "execution_count": 26,
     "metadata": {},
     "output_type": "execute_result"
    }
   ],
   "source": [
    "seri[\"reg\": \"loj\"]"
   ]
  },
  {
   "cell_type": "code",
   "execution_count": 27,
   "id": "f8682f89-fa62-4d7b-b58b-f2c24f114e40",
   "metadata": {},
   "outputs": [
    {
     "data": {
      "text/plain": [
       "{'index1': 'murat',\n",
       " 'index2': 'ramazan',\n",
       " 'index3': 'soner',\n",
       " 'index4': 'engin',\n",
       " 'index5': 'havvanur',\n",
       " 'index6': 'eva'}"
      ]
     },
     "execution_count": 27,
     "metadata": {},
     "output_type": "execute_result"
    }
   ],
   "source": [
    "my_query = {\"index1\":\"murat\",\n",
    "            \"index2\":\"ramazan\",\n",
    "            \"index3\":\"soner\",\n",
    "            \"index4\":\"engin\",\n",
    "            \"index5\":\"havvanur\",\n",
    "            \"index6\":\"eva\"}\n",
    "my_query"
   ]
  },
  {
   "cell_type": "code",
   "execution_count": 28,
   "id": "91b6559f-6143-446e-89c6-6e890a539da4",
   "metadata": {},
   "outputs": [
    {
     "data": {
      "text/plain": [
       "index1       murat\n",
       "index2     ramazan\n",
       "index3       soner\n",
       "index4       engin\n",
       "index5    havvanur\n",
       "index6         eva\n",
       "dtype: object"
      ]
     },
     "execution_count": 28,
     "metadata": {},
     "output_type": "execute_result"
    }
   ],
   "source": [
    "create_query = pd.Series(my_query)\n",
    "create_query"
   ]
  },
  {
   "cell_type": "code",
   "execution_count": 29,
   "id": "9eefcda4-b9b9-46ba-99c3-3950434a026a",
   "metadata": {},
   "outputs": [
    {
     "data": {
      "text/plain": [
       "index1      murat\n",
       "index2    ramazan\n",
       "dtype: object"
      ]
     },
     "execution_count": 29,
     "metadata": {},
     "output_type": "execute_result"
    }
   ],
   "source": [
    "create_query[[\"index1\", \"index2\"]]"
   ]
  },
  {
   "cell_type": "code",
   "execution_count": 30,
   "id": "ed54530d-fc98-4fd8-a7ae-cd7a3f2900f5",
   "metadata": {},
   "outputs": [
    {
     "data": {
      "text/plain": [
       "index1       murat\n",
       "index2     ramazan\n",
       "index3       soner\n",
       "index4       engin\n",
       "index5    havvanur\n",
       "dtype: object"
      ]
     },
     "execution_count": 30,
     "metadata": {},
     "output_type": "execute_result"
    }
   ],
   "source": [
    "create_query[\"index1\":\"index5\"]"
   ]
  },
  {
   "cell_type": "code",
   "execution_count": 35,
   "id": "a96eb14d-05e4-4061-97d6-d7939fdb5f6f",
   "metadata": {},
   "outputs": [
    {
     "data": {
      "text/plain": [
       "index1     6\n",
       "index2     9\n",
       "index3    14\n",
       "dtype: int32"
      ]
     },
     "execution_count": 35,
     "metadata": {},
     "output_type": "execute_result"
    }
   ],
   "source": [
    "seri = pd.Series(np.random.randint(1, 20, 3), index=[\"index1\", \"index2\", \"index3\"])\n",
    "seri"
   ]
  },
  {
   "cell_type": "code",
   "execution_count": 36,
   "id": "19563e28-6c7c-4499-94b9-a2fa92915424",
   "metadata": {},
   "outputs": [
    {
     "data": {
      "text/plain": [
       "False"
      ]
     },
     "execution_count": 36,
     "metadata": {},
     "output_type": "execute_result"
    }
   ],
   "source": [
    "6 in seri"
   ]
  },
  {
   "cell_type": "code",
   "execution_count": 37,
   "id": "0d5d0e1e-fbcc-4529-8b34-781b8a67ff76",
   "metadata": {},
   "outputs": [
    {
     "data": {
      "text/plain": [
       "False"
      ]
     },
     "execution_count": 37,
     "metadata": {},
     "output_type": "execute_result"
    }
   ],
   "source": [
    "\"6\" in seri"
   ]
  },
  {
   "cell_type": "code",
   "execution_count": 39,
   "id": "0dd605e8-dac0-4119-bc58-3f127fe28aac",
   "metadata": {},
   "outputs": [
    {
     "data": {
      "text/plain": [
       "True"
      ]
     },
     "execution_count": 39,
     "metadata": {},
     "output_type": "execute_result"
    }
   ],
   "source": [
    "\"index1\" in seri"
   ]
  },
  {
   "cell_type": "code",
   "execution_count": 40,
   "id": "0e6eb41d-c7d1-4938-8b3f-11b6d890a38a",
   "metadata": {},
   "outputs": [
    {
     "data": {
      "text/plain": [
       "False"
      ]
     },
     "execution_count": 40,
     "metadata": {},
     "output_type": "execute_result"
    }
   ],
   "source": [
    "\"index4\" in seri"
   ]
  },
  {
   "cell_type": "code",
   "execution_count": 42,
   "id": "bd827997-c0b6-4bca-b569-14aadbf9adde",
   "metadata": {},
   "outputs": [
    {
     "data": {
      "text/plain": [
       "pandas.core.series.Series"
      ]
     },
     "execution_count": 42,
     "metadata": {},
     "output_type": "execute_result"
    }
   ],
   "source": [
    "type(seri)"
   ]
  },
  {
   "cell_type": "code",
   "execution_count": 44,
   "id": "0c7e035b-ba81-4e81-8ded-fec485569848",
   "metadata": {},
   "outputs": [
    {
     "data": {
      "text/plain": [
       "[Index(['index1', 'index2', 'index3'], dtype='object')]"
      ]
     },
     "execution_count": 44,
     "metadata": {},
     "output_type": "execute_result"
    }
   ],
   "source": [
    "seri.axes"
   ]
  },
  {
   "cell_type": "code",
   "execution_count": 46,
   "id": "40128d48-6ad8-4434-88b6-0cbbdaf4b378",
   "metadata": {},
   "outputs": [
    {
     "data": {
      "text/plain": [
       "index1     6\n",
       "index2     9\n",
       "index3    14\n",
       "dtype: int32"
      ]
     },
     "execution_count": 46,
     "metadata": {},
     "output_type": "execute_result"
    }
   ],
   "source": [
    "seri.tail()"
   ]
  },
  {
   "cell_type": "code",
   "execution_count": 47,
   "id": "ab012641-cb07-4926-a89f-01421cfd0316",
   "metadata": {},
   "outputs": [
    {
     "data": {
      "text/plain": [
       "index1     6\n",
       "index2     9\n",
       "index3    14\n",
       "dtype: int32"
      ]
     },
     "execution_count": 47,
     "metadata": {},
     "output_type": "execute_result"
    }
   ],
   "source": [
    "seri.head()"
   ]
  },
  {
   "cell_type": "code",
   "execution_count": 48,
   "id": "a73273c6-b929-4378-9b03-078a5bb4c0b0",
   "metadata": {},
   "outputs": [
    {
     "data": {
      "text/plain": [
       "<bound method NDFrame.head of index1     6\n",
       "index2     9\n",
       "index3    14\n",
       "dtype: int32>"
      ]
     },
     "execution_count": 48,
     "metadata": {},
     "output_type": "execute_result"
    }
   ],
   "source": [
    "seri.head"
   ]
  },
  {
   "cell_type": "code",
   "execution_count": 49,
   "id": "08df15a7-57f2-4150-93b1-07f5a9eca0f2",
   "metadata": {},
   "outputs": [
    {
     "data": {
      "text/plain": [
       "dtype('int32')"
      ]
     },
     "execution_count": 49,
     "metadata": {},
     "output_type": "execute_result"
    }
   ],
   "source": [
    "seri.dtype"
   ]
  },
  {
   "cell_type": "code",
   "execution_count": null,
   "id": "1cef1034-d7e0-49b4-9a80-8b30296df851",
   "metadata": {},
   "outputs": [],
   "source": []
  }
 ],
 "metadata": {
  "kernelspec": {
   "display_name": "Python 3 (ipykernel)",
   "language": "python",
   "name": "python3"
  },
  "language_info": {
   "codemirror_mode": {
    "name": "ipython",
    "version": 3
   },
   "file_extension": ".py",
   "mimetype": "text/x-python",
   "name": "python",
   "nbconvert_exporter": "python",
   "pygments_lexer": "ipython3",
   "version": "3.9.12"
  }
 },
 "nbformat": 4,
 "nbformat_minor": 5
}
